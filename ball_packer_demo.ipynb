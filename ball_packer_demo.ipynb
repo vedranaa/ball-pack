{
 "cells": [
  {
   "cell_type": "markdown",
   "metadata": {},
   "source": [
    "# Ball packer demo\n",
    "\n",
    "*Author: Vedrana Andersen Dahl (vand@dtu.dk)*"
   ]
  },
  {
   "cell_type": "code",
   "execution_count": null,
   "metadata": {},
   "outputs": [],
   "source": [
    "import ball_packer as bp"
   ]
  },
  {
   "cell_type": "markdown",
   "metadata": {},
   "source": [
    "## Setting up\n",
    "If you use ball packer to export a volume, the domain radius ($r$) and height ($h$) dictate volume size, which will be $h + 1$ slices of side length $2r + 1$. For other purposes, dimensions are relative. Animations show 50 slices per default."
   ]
  },
  {
   "cell_type": "code",
   "execution_count": null,
   "metadata": {},
   "outputs": [],
   "source": [
    "domain_radius = 100  # Domain radius \n",
    "domain_height = 300 # Domain height\n",
    "ball_radius_mean = 5  # Mean ball radius\n",
    "ball_radius_sigma = 0.3 * ball_radius_mean  # Standard deviation of ball radius\n",
    "volume_fraction = 20  # Desired ball volume fraction\n",
    "bal = bp.from_vf(domain_radius, domain_height, volume_fraction, \n",
    "        ball_radius_mean, ball_radius_sigma)"
   ]
  },
  {
   "cell_type": "code",
   "execution_count": null,
   "metadata": {},
   "outputs": [],
   "source": [
    "bal.show_radii_distribution()"
   ]
  },
  {
   "cell_type": "code",
   "execution_count": null,
   "metadata": {},
   "outputs": [],
   "source": [
    "losses = bal.optimize_configuration(iters=1500)"
   ]
  },
  {
   "cell_type": "code",
   "execution_count": null,
   "metadata": {},
   "outputs": [],
   "source": [
    "bal.show_losses(losses)"
   ]
  },
  {
   "cell_type": "code",
   "execution_count": null,
   "metadata": {},
   "outputs": [],
   "source": [
    "# Caution, animate_slices is very slow for large number of balls\n",
    "# bal.animate_slices()  # This takes too long for many balls"
   ]
  },
  {
   "cell_type": "code",
   "execution_count": null,
   "metadata": {},
   "outputs": [],
   "source": [
    "bal.show_3D_configuration(scale=1)"
   ]
  },
  {
   "cell_type": "code",
   "execution_count": null,
   "metadata": {},
   "outputs": [],
   "source": [
    "bal.save_mesh('balls.obj')"
   ]
  },
  {
   "cell_type": "code",
   "execution_count": null,
   "metadata": {},
   "outputs": [],
   "source": [
    "voxelization = bal.voxelize(transition='smooth')\n",
    "\n",
    "# Caution, animate is slow for large volumes\n",
    "# bp.animate(voxelization)"
   ]
  },
  {
   "cell_type": "code",
   "execution_count": null,
   "metadata": {},
   "outputs": [],
   "source": [
    "import tifffile # pip install tifffile\n",
    "tifffile.imwrite('voxelization.tiff', voxelization.numpy())\n"
   ]
  }
 ],
 "metadata": {
  "kernelspec": {
   "display_name": "withPyTorch",
   "language": "python",
   "name": "python3"
  },
  "language_info": {
   "codemirror_mode": {
    "name": "ipython",
    "version": 3
   },
   "file_extension": ".py",
   "mimetype": "text/x-python",
   "name": "python",
   "nbconvert_exporter": "python",
   "pygments_lexer": "ipython3",
   "version": "3.10.6"
  }
 },
 "nbformat": 4,
 "nbformat_minor": 2
}
